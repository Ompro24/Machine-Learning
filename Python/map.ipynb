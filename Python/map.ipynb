{
 "cells": [
  {
   "cell_type": "code",
   "execution_count": 1,
   "metadata": {},
   "outputs": [
    {
     "data": {
      "text/plain": [
       "4"
      ]
     },
     "execution_count": 1,
     "metadata": {},
     "output_type": "execute_result"
    }
   ],
   "source": [
    "def square(x):\n",
    "    return x*x\n",
    "square(2)"
   ]
  },
  {
   "cell_type": "code",
   "execution_count": 3,
   "metadata": {},
   "outputs": [
    {
     "data": {
      "text/plain": [
       "[1, 4, 9, 16, 25, 36, 49, 64, 81]"
      ]
     },
     "execution_count": 3,
     "metadata": {},
     "output_type": "execute_result"
    }
   ],
   "source": [
    "numbers=[1,2,3,4,5,6,7,8,9]\n",
    "list(map(square,numbers))"
   ]
  },
  {
   "cell_type": "code",
   "execution_count": 4,
   "metadata": {},
   "outputs": [
    {
     "data": {
      "text/plain": [
       "[1, 4, 9, 16, 25, 36, 49, 64, 81]"
      ]
     },
     "execution_count": 4,
     "metadata": {},
     "output_type": "execute_result"
    }
   ],
   "source": [
    "#lamda function with map\n",
    "\n",
    "list(map(lambda a:a*a,numbers))"
   ]
  },
  {
   "cell_type": "code",
   "execution_count": 6,
   "metadata": {},
   "outputs": [
    {
     "data": {
      "text/plain": [
       "[6, 8, 10, 12]"
      ]
     },
     "execution_count": 6,
     "metadata": {},
     "output_type": "execute_result"
    }
   ],
   "source": [
    "##Map multiple iterables\n",
    "numbers2=[1,2,3,4]\n",
    "numbers1=[5,6,7,8]\n",
    "\n",
    "list(map(lambda a,b:a+b,numbers1,numbers2))"
   ]
  },
  {
   "cell_type": "code",
   "execution_count": 9,
   "metadata": {},
   "outputs": [
    {
     "name": "stdout",
     "output_type": "stream",
     "text": [
      "[1, 2, 3, 4, 5]\n"
     ]
    }
   ],
   "source": [
    "## map() to convert a list of strings to integers\n",
    "str_number=['1','2','3','4','5']\n",
    "int_number=list(map(int,str_number))\n",
    "\n",
    "print(int_number)"
   ]
  },
  {
   "cell_type": "code",
   "execution_count": 10,
   "metadata": {},
   "outputs": [
    {
     "name": "stdout",
     "output_type": "stream",
     "text": [
      "['WORDS', 'ASSERTION', 'EXCALIBUR']\n"
     ]
    }
   ],
   "source": [
    "\n",
    "str_character=[\"Words\",\"Assertion\",\"Excalibur\"]\n",
    "Uper_character=list(map(str.upper,str_character))\n",
    "print(Uper_character)"
   ]
  },
  {
   "cell_type": "code",
   "execution_count": 11,
   "metadata": {},
   "outputs": [
    {
     "data": {
      "text/plain": [
       "['Om', 'Jack']"
      ]
     },
     "execution_count": 11,
     "metadata": {},
     "output_type": "execute_result"
    }
   ],
   "source": [
    "def get_name(person):\n",
    "    return person[\"name\"]\n",
    "people=[{'name':'Om',\"age\":20},{\"name\":\"Jack\",\"age\":30}]\n",
    "list(map(get_name,people))\n"
   ]
  },
  {
   "cell_type": "markdown",
   "metadata": {},
   "source": [
    "The map() function is a poweful tool for applying transformations to iterable data structures . It can be used with regular functions ,lamdbda ,and even multiple iterables, providing a versatile approach to data processing in Python . By understanding and utilizing map(),you can write more efficient and readable code"
   ]
  },
  {
   "cell_type": "code",
   "execution_count": 16,
   "metadata": {},
   "outputs": [
    {
     "data": {
      "text/plain": [
       "True"
      ]
     },
     "execution_count": 16,
     "metadata": {},
     "output_type": "execute_result"
    }
   ],
   "source": [
    "def event(num):\n",
    "    if num%2==0:\n",
    "        return True\n",
    "event(2)"
   ]
  },
  {
   "cell_type": "code",
   "execution_count": 17,
   "metadata": {},
   "outputs": [
    {
     "data": {
      "text/plain": [
       "[2, 4, 6, 8]"
      ]
     },
     "execution_count": 17,
     "metadata": {},
     "output_type": "execute_result"
    }
   ],
   "source": [
    "list1=[1,2,3,4,5,6,7,8,9]\n",
    "\n",
    "list(filter(event,list1))"
   ]
  },
  {
   "cell_type": "code",
   "execution_count": 19,
   "metadata": {},
   "outputs": [
    {
     "name": "stdout",
     "output_type": "stream",
     "text": [
      "[6, 6, 7, 7, 8, 9, 9]\n"
     ]
    }
   ],
   "source": [
    "#filter with lambda function\n",
    "numbers=[3,4,5,6,6,7,7,8,9,9]\n",
    "greater_than_5=list(filter(lambda a:a>5,numbers))\n",
    "print(greater_than_5)"
   ]
  },
  {
   "cell_type": "code",
   "execution_count": 21,
   "metadata": {},
   "outputs": [
    {
     "name": "stdout",
     "output_type": "stream",
     "text": [
      "[6, 8, 10, 12, 454, 414, 52]\n"
     ]
    }
   ],
   "source": [
    "#filter with a lamda function and multiple conditions\n",
    "numberss=[1,2,3,3,4,5,6,8,4,9,5,7,9,7,91,123,10,145,12,454,414,52]\n",
    "greater_than_even=list(filter(lambda i:i>5 and i%2==0,numberss))\n",
    "print(greater_than_even)\n"
   ]
  },
  {
   "cell_type": "code",
   "execution_count": 26,
   "metadata": {},
   "outputs": [
    {
     "name": "stdout",
     "output_type": "stream",
     "text": [
      "[{'name': 'Om', 'age': 32}, {'name': 'Jack', 'age': 30}]\n"
     ]
    }
   ],
   "source": [
    "#filter to check if age is greater than 35 in dictionary\n",
    "people=[{'name':'Om',\"age\":32},\n",
    "        {\"name\":\"Jack\",\"age\":30},\n",
    "        {'name':'Oms',\"age\":25}]\n",
    "def age_greaterthan_25(people):\n",
    "    return people['age']>25\n",
    "age_greaterthan_255=list(filter(age_greaterthan_25,people))\n",
    "print(age_greaterthan_255)"
   ]
  },
  {
   "cell_type": "markdown",
   "metadata": {},
   "source": [
    "conclusion\n",
    "The Filter() function is a powerful tool for creating iterators that filter items out of an iterable based on a function. It is commonly used for data cleaning , filtering objects, and removing unwnated elements from list. By mastering filter(),you can write more concise and efficient code for processing and manipulating collections in python"
   ]
  },
  {
   "cell_type": "markdown",
   "metadata": {},
   "source": []
  }
 ],
 "metadata": {
  "kernelspec": {
   "display_name": "Python 3",
   "language": "python",
   "name": "python3"
  },
  "language_info": {
   "codemirror_mode": {
    "name": "ipython",
    "version": 3
   },
   "file_extension": ".py",
   "mimetype": "text/x-python",
   "name": "python",
   "nbconvert_exporter": "python",
   "pygments_lexer": "ipython3",
   "version": "3.12.0"
  }
 },
 "nbformat": 4,
 "nbformat_minor": 2
}
