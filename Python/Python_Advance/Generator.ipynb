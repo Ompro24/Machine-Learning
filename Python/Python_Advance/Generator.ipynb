{
 "cells": [
  {
   "cell_type": "markdown",
   "metadata": {},
   "source": [
    "## Generator"
   ]
  },
  {
   "cell_type": "code",
   "execution_count": 5,
   "metadata": {},
   "outputs": [],
   "source": [
    "def square(n):\n",
    "    for i in range(3):\n",
    "        return i**2\n",
    "    \n"
   ]
  },
  {
   "cell_type": "code",
   "execution_count": 9,
   "metadata": {},
   "outputs": [
    {
     "data": {
      "text/plain": [
       "0"
      ]
     },
     "execution_count": 9,
     "metadata": {},
     "output_type": "execute_result"
    }
   ],
   "source": [
    "\n",
    "square(3)\n",
    "#In the above code we wil get the output as 0 because when we write return keyword it returns the values and exits the function if used in loop it will only print first value\n"
   ]
  },
  {
   "cell_type": "code",
   "execution_count": 11,
   "metadata": {},
   "outputs": [],
   "source": [
    "def square(n):\n",
    "    for i in range(3):\n",
    "        yield i**2\n",
    "    \n"
   ]
  },
  {
   "cell_type": "code",
   "execution_count": 12,
   "metadata": {},
   "outputs": [
    {
     "data": {
      "text/plain": [
       "<generator object square at 0x0000024F3E9768E0>"
      ]
     },
     "execution_count": 12,
     "metadata": {},
     "output_type": "execute_result"
    }
   ],
   "source": [
    "square(3)"
   ]
  },
  {
   "cell_type": "code",
   "execution_count": 13,
   "metadata": {},
   "outputs": [
    {
     "name": "stdout",
     "output_type": "stream",
     "text": [
      "0\n",
      "1\n",
      "4\n"
     ]
    }
   ],
   "source": [
    "for i in square(3):\n",
    "    print(i)"
   ]
  },
  {
   "cell_type": "code",
   "execution_count": 16,
   "metadata": {},
   "outputs": [
    {
     "data": {
      "text/plain": [
       "4"
      ]
     },
     "execution_count": 16,
     "metadata": {},
     "output_type": "execute_result"
    }
   ],
   "source": [
    "a=square(3)\n",
    "next(a)\n",
    "next(a)\n",
    "next(a)"
   ]
  },
  {
   "cell_type": "code",
   "execution_count": 27,
   "metadata": {},
   "outputs": [],
   "source": [
    "def my_gernerator():\n",
    "    yield 1\n",
    "    yield 2\n",
    "    yield 3"
   ]
  },
  {
   "cell_type": "code",
   "execution_count": 28,
   "metadata": {},
   "outputs": [
    {
     "data": {
      "text/plain": [
       "1"
      ]
     },
     "execution_count": 28,
     "metadata": {},
     "output_type": "execute_result"
    }
   ],
   "source": [
    "gen=my_gernerator()\n",
    "next(gen)"
   ]
  },
  {
   "cell_type": "code",
   "execution_count": 22,
   "metadata": {},
   "outputs": [
    {
     "data": {
      "text/plain": [
       "2"
      ]
     },
     "execution_count": 22,
     "metadata": {},
     "output_type": "execute_result"
    }
   ],
   "source": [
    "next(gen)"
   ]
  },
  {
   "cell_type": "code",
   "execution_count": 23,
   "metadata": {},
   "outputs": [
    {
     "data": {
      "text/plain": [
       "3"
      ]
     },
     "execution_count": 23,
     "metadata": {},
     "output_type": "execute_result"
    }
   ],
   "source": [
    "next(gen)"
   ]
  },
  {
   "cell_type": "code",
   "execution_count": 29,
   "metadata": {},
   "outputs": [
    {
     "name": "stdout",
     "output_type": "stream",
     "text": [
      "2\n",
      "3\n"
     ]
    }
   ],
   "source": [
    "for val in gen:\n",
    "    print(val)\n",
    "    "
   ]
  },
  {
   "cell_type": "code",
   "execution_count": null,
   "metadata": {},
   "outputs": [],
   "source": [
    "#Practicall Example Reading Lage files"
   ]
  },
  {
   "cell_type": "code",
   "execution_count": 30,
   "metadata": {},
   "outputs": [],
   "source": [
    "def read_larfe_fil(file_path):\n",
    "    with open(file_path,'r') as file:\n",
    "        for line in file:\n",
    "            yield line"
   ]
  },
  {
   "cell_type": "code",
   "execution_count": 32,
   "metadata": {},
   "outputs": [
    {
     "name": "stdout",
     "output_type": "stream",
     "text": [
      "Are you looking to master Machine Learning (ML) and Natural Language Processing (NLP) from the ground up? This comprehensive course is designed to take you on a journey from understanding the basics to mastering advanced concepts, all while providing practical insights and hands-on experience.\n",
      "\n",
      "What You'll Learn:\n",
      "\n",
      "Foundational Concepts: Start with the basics of ML and NLP, including algorithms, models, and techniques used in these fields. Understand the core principles that drive machine learning and natural language processing.\n",
      "\n",
      "Advanced Topics: Dive deeper into advanced topics such as deep learning, reinforcement learning, and transformer models. Learn how to apply these concepts to build more complex and powerful models.\n",
      "\n",
      "Practical Applications: Gain practical experience by working on real-world projects and case studies. Apply your knowledge to solve problems in various domains, including healthcare, finance, and e-commerce.\n",
      "\n",
      "Mathematical Foundations: Develop a strong mathematical foundation by learning the math behind ML and NLP algorithms. Understand concepts such as linear algebra, calculus, and probability theory.\n",
      "\n",
      "Industry-standard Tools: Familiarize yourself with industry-standard tools and libraries used in ML and NLP, including TensorFlow, PyTorch, and scikit-learn. Learn how to use these tools to build and deploy models.\n",
      "\n",
      "Optimization Techniques: Learn how to optimize ML and NLP models for better performance and efficiency. Understand techniques such as hyperparameter tuning, model selection, and model evaluation.\n",
      "\n",
      "Who Is This Course For:\n",
      "\n",
      "This course is suitable for anyone interested in learning machine learning and natural language processing, from beginners to advanced learners. Whether you're a student, a professional looking to upskill, or someone looking to switch careers, this course will provide you with the knowledge and skills you need to succeed in the field of ML and NLP.\n",
      "\n",
      "Why Take This Course:\n",
      "\n",
      "By the end of this course, you'll have a comprehensive understanding of machine learning and natural language processing, from the basics to advanced concepts. You'll be able to apply your knowledge to build real-world projects, and you'll have the skills needed to pursue a career in ML and NLP.\n",
      "\n",
      "Join us on this journey to master Machine Learning and Natural Language Processing. Enroll now and start building your future in AI.\n"
     ]
    }
   ],
   "source": [
    "file_path='large_file.txt'\n",
    "for line in read_larfe_fil(file_path):\n",
    "    print(line.strip())"
   ]
  },
  {
   "cell_type": "code",
   "execution_count": 33,
   "metadata": {},
   "outputs": [
    {
     "name": "stdout",
     "output_type": "stream",
     "text": [
      "Name: Alice, Age: 30\n"
     ]
    }
   ],
   "source": [
    "name = \"Alice\"\n",
    "age = 30\n",
    "print(\"Name: {}, Age: {}\".format(name, age))\n"
   ]
  },
  {
   "cell_type": "code",
   "execution_count": null,
   "metadata": {},
   "outputs": [],
   "source": []
  }
 ],
 "metadata": {
  "kernelspec": {
   "display_name": "Python 3",
   "language": "python",
   "name": "python3"
  },
  "language_info": {
   "codemirror_mode": {
    "name": "ipython",
    "version": 3
   },
   "file_extension": ".py",
   "mimetype": "text/x-python",
   "name": "python",
   "nbconvert_exporter": "python",
   "pygments_lexer": "ipython3",
   "version": "3.12.0"
  }
 },
 "nbformat": 4,
 "nbformat_minor": 2
}
