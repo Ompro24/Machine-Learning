{
 "cells": [
  {
   "cell_type": "code",
   "execution_count": 1,
   "metadata": {},
   "outputs": [],
   "source": [
    "#Syntax for function\n",
    "def multiplication():\n",
    "    \"\"\"DocString\"\"\"\n",
    "    #Function Body\n",
    "    return Statement"
   ]
  },
  {
   "cell_type": "code",
   "execution_count": 2,
   "metadata": {},
   "outputs": [],
   "source": [
    "def even_odd_num(num):\n",
    "    \"\"\"This function finds if a number is even or odd   \"\"\"\n",
    "    if num %2==0:\n",
    "        print(num,\"is even\")\n",
    "    else:\n",
    "        print(num,\"is odd\")"
   ]
  },
  {
   "cell_type": "code",
   "execution_count": 3,
   "metadata": {},
   "outputs": [
    {
     "name": "stdout",
     "output_type": "stream",
     "text": [
      "5 is odd\n"
     ]
    }
   ],
   "source": [
    "even_odd_num(5)"
   ]
  },
  {
   "cell_type": "code",
   "execution_count": 5,
   "metadata": {},
   "outputs": [
    {
     "name": "stdout",
     "output_type": "stream",
     "text": [
      "Positional Arguments:Om\n",
      "Positional Arguments:1\n",
      "Positional Arguments:2\n",
      "Positional Arguments:3\n",
      "Positional Arguments:4\n",
      "name John\n",
      "age 12\n"
     ]
    }
   ],
   "source": [
    "#Positional Argument and Keyword Arguments\n",
    "\n",
    "def print_details(*args,**kwargs):\n",
    "    for i in args:\n",
    "        print(f\"Positional Arguments:{i}\")\n",
    "    for key,values in kwargs.items():\n",
    "        print(key,values)\n",
    "print_details(\"Om\",1,2,3,4,name=\"John\",age=12)\n",
    "        "
   ]
  },
  {
   "cell_type": "code",
   "execution_count": null,
   "metadata": {},
   "outputs": [],
   "source": []
  },
  {
   "cell_type": "code",
   "execution_count": null,
   "metadata": {},
   "outputs": [],
   "source": []
  }
 ],
 "metadata": {
  "kernelspec": {
   "display_name": "Python 3",
   "language": "python",
   "name": "python3"
  },
  "language_info": {
   "codemirror_mode": {
    "name": "ipython",
    "version": 3
   },
   "file_extension": ".py",
   "mimetype": "text/x-python",
   "name": "python",
   "nbconvert_exporter": "python",
   "pygments_lexer": "ipython3",
   "version": "3.12.0"
  }
 },
 "nbformat": 4,
 "nbformat_minor": 2
}
