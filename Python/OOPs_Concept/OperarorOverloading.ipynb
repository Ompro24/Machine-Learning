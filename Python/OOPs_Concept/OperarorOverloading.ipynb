{
 "cells": [
  {
   "cell_type": "code",
   "execution_count": 2,
   "metadata": {},
   "outputs": [
    {
     "data": {
      "text/plain": [
       "'\\n_add_(self,other):add operator +\\n_sub_(self,other): substraction operator -\\n_mul_(self,other): multiply operator *\\n_truediv_(self,other): divide operator /\\n_eq_(self,other): equal operaor ==\\n_lt_(self,other): less than <\\n'"
      ]
     },
     "execution_count": 2,
     "metadata": {},
     "output_type": "execute_result"
    }
   ],
   "source": [
    "# common operator overloading Magic Methods\n",
    "'''\n",
    "_add_(self,other):add operator +\n",
    "_sub_(self,other): substraction operator -\n",
    "_mul_(self,other): multiply operator *\n",
    "_truediv_(self,other): divide operator /\n",
    "_eq_(self,other): equal operaor ==\n",
    "_lt_(self,other): less than <\n",
    "\n",
    "__gt__\n",
    "'''"
   ]
  },
  {
   "cell_type": "code",
   "execution_count": 11,
   "metadata": {},
   "outputs": [
    {
     "name": "stdout",
     "output_type": "stream",
     "text": [
      "Vector(6,8)\n",
      "Vector(8,15)\n",
      "Vector(-2,-2)\n"
     ]
    }
   ],
   "source": [
    "class Vector:\n",
    "    def __init__(self,x,y) :\n",
    "        self.x=x\n",
    "        self.y=y\n",
    "    def __add__(self,other):\n",
    "        return Vector(self.x+other.x,self.y+other.y)\n",
    "    def __sub__(self,other):\n",
    "        return Vector(self.x-other.x,self.y-other.y)\n",
    "    def __mul__(self,other):\n",
    "        return Vector(self.x*other.x,self.y*other.y)\n",
    "    \n",
    "    def __eq__(self,other):\n",
    "        return self.x==other.x and self.y==other.y\n",
    "    \n",
    "    def __repr__(self):\n",
    "        return f\"Vector({self.x},{self.y})\"\n",
    "    \n",
    "#Create objects of the vector class\n",
    "\n",
    "v1=Vector(2,3)\n",
    "v2=Vector(4,5)\n",
    "        \n",
    "print(v1+v2)\n",
    "print(v1*v2)\n",
    "print(v1-v2)"
   ]
  },
  {
   "cell_type": "code",
   "execution_count": null,
   "metadata": {},
   "outputs": [],
   "source": []
  },
  {
   "cell_type": "code",
   "execution_count": null,
   "metadata": {},
   "outputs": [],
   "source": []
  },
  {
   "cell_type": "code",
   "execution_count": null,
   "metadata": {},
   "outputs": [],
   "source": []
  },
  {
   "cell_type": "code",
   "execution_count": null,
   "metadata": {},
   "outputs": [],
   "source": []
  },
  {
   "cell_type": "code",
   "execution_count": null,
   "metadata": {},
   "outputs": [],
   "source": []
  },
  {
   "cell_type": "code",
   "execution_count": null,
   "metadata": {},
   "outputs": [],
   "source": []
  },
  {
   "cell_type": "code",
   "execution_count": null,
   "metadata": {},
   "outputs": [],
   "source": []
  },
  {
   "cell_type": "code",
   "execution_count": null,
   "metadata": {},
   "outputs": [],
   "source": []
  },
  {
   "cell_type": "code",
   "execution_count": null,
   "metadata": {},
   "outputs": [],
   "source": []
  },
  {
   "cell_type": "code",
   "execution_count": null,
   "metadata": {},
   "outputs": [],
   "source": []
  }
 ],
 "metadata": {
  "kernelspec": {
   "display_name": "Python 3",
   "language": "python",
   "name": "python3"
  },
  "language_info": {
   "codemirror_mode": {
    "name": "ipython",
    "version": 3
   },
   "file_extension": ".py",
   "mimetype": "text/x-python",
   "name": "python",
   "nbconvert_exporter": "python",
   "pygments_lexer": "ipython3",
   "version": "3.12.0"
  }
 },
 "nbformat": 4,
 "nbformat_minor": 2
}
