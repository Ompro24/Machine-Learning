{
 "cells": [
  {
   "cell_type": "markdown",
   "metadata": {},
   "source": [
    "## Inheritence"
   ]
  },
  {
   "cell_type": "code",
   "execution_count": 4,
   "metadata": {},
   "outputs": [],
   "source": [
    "class Animal:\n",
    "    def __init__(self,name):\n",
    "        self.name=name\n",
    "    def speak(self):\n",
    "        print('Subclass must implement this method')\n",
    "\n",
    "#base class 2\n",
    "class pet:\n",
    "    def __init__(self,owner) :\n",
    "        self.owner=owner\n",
    "#Derived class \n",
    "class Dog(Animal,pet):\n",
    "    def __init__(self,name,owner):\n",
    "        Animal.__init__(self,name)\n",
    "        pet.__init__(self,owner)\n",
    "        \n",
    "    def speak(self):\n",
    "        return f\"{self.name}say woof\""
   ]
  },
  {
   "cell_type": "code",
   "execution_count": 6,
   "metadata": {},
   "outputs": [
    {
     "name": "stdout",
     "output_type": "stream",
     "text": [
      "Buddysay woof\n",
      "krish\n"
     ]
    }
   ],
   "source": [
    "dog=Dog('Buddy','krish')\n",
    "print(dog.speak())\n",
    "print(dog.owner)"
   ]
  },
  {
   "cell_type": "markdown",
   "metadata": {},
   "source": [
    "## Polymorphism"
   ]
  },
  {
   "cell_type": "markdown",
   "metadata": {},
   "source": [
    "### Method overriding\n",
    "Method overriding allows a child class to provide a specific implementation of a method that is already defined in its parent class"
   ]
  },
  {
   "cell_type": "code",
   "execution_count": 4,
   "metadata": {},
   "outputs": [
    {
     "name": "stdout",
     "output_type": "stream",
     "text": [
      "Woof!\n",
      "Meow!\n",
      "Woof!\n",
      "Meow!\n"
     ]
    }
   ],
   "source": [
    "#Base class\n",
    "class Animal :\n",
    "    def speak(self):\n",
    "        return \"Sound of the animal\"\n",
    "\n",
    "#derived class\n",
    "class dog(Animal):\n",
    "    def speak(self):\n",
    "        return \"Woof!\"\n",
    "\n",
    "class Cat(Animal):\n",
    "    def speak(self):\n",
    "        return \"Meow!\"\n",
    "#function that demonstrate polymorphism\n",
    "def animal_speak(animal):\n",
    "    print(animal.speak())\n",
    "    \n",
    "dog=dog()\n",
    "Cat=Cat()\n",
    "print(dog.speak())\n",
    "print(Cat.speak())\n",
    "\n",
    "animal_speak(dog)\n",
    "animal_speak(Cat)"
   ]
  },
  {
   "cell_type": "code",
   "execution_count": 11,
   "metadata": {},
   "outputs": [
    {
     "name": "stdout",
     "output_type": "stream",
     "text": [
      "The area is 1962.5\n",
      "The area is 20\n"
     ]
    }
   ],
   "source": [
    "###polymorphism with functions and methods \n",
    "\n",
    "#base class\n",
    "class Shape:\n",
    "    def area(slef):\n",
    "        return \"The area of the figure\"\n",
    "\n",
    "\n",
    "class Rectange(Shape):\n",
    "    def __init__(self,width,height):\n",
    "        self.width=width\n",
    "        self.height=height\n",
    "    def area(self):\n",
    "        return self.width* self.height\n",
    "\n",
    "class Circle(Shape):\n",
    "    def __init__(self,radius):\n",
    "        self.radius=radius\n",
    "    def area(self):\n",
    "        return self.radius* self.radius* 3.14\n",
    "\n",
    "#function to demonstrate polymorphism\n",
    "def print_area(shape):\n",
    "    print(f\"The area is {shape.area()}\")\n",
    "    \n",
    "Rectangle=Rectange(4,5)\n",
    "Circle1=Circle(25)\n",
    "print_area(Circle1)   \n",
    "print_area(Rectangle)    "
   ]
  },
  {
   "cell_type": "markdown",
   "metadata": {},
   "source": [
    "## PolyMorphism with Abstract Base class"
   ]
  },
  {
   "cell_type": "markdown",
   "metadata": {},
   "source": [
    "Abstract Base class (ABCs) are used to define common methods for a group of related objects. They can enforce that deriived classes impleent particular methods, promoting consistency across different implementations"
   ]
  },
  {
   "cell_type": "code",
   "execution_count": 13,
   "metadata": {},
   "outputs": [
    {
     "name": "stdout",
     "output_type": "stream",
     "text": [
      "Car Engine started\n",
      "Motorcycle Engine is started\n"
     ]
    }
   ],
   "source": [
    "from abc import ABC,abstractmethod\n",
    "\n",
    "#define an Abstract class\n",
    "\n",
    "class Vehicle(ABC):\n",
    "    @abstractmethod\n",
    "    def start_engine(self):\n",
    "        pass\n",
    "#derived class\n",
    "class Car(Vehicle):\n",
    "    def start_engine(self):\n",
    "        return \"Car Engine started\"\n",
    "#derived class\n",
    "class Motorcycle(Vehicle):\n",
    "    def start_engine(self):\n",
    "        return \"Motorcycle Engine is started\"\n",
    "    \n",
    "def print_start(Vehicle):\n",
    "    print(f\"{Vehicle.start_engine()}\")\n",
    "car=Car()\n",
    "Motorcyclee=Motorcycle()\n",
    "print_start(car)\n",
    "print_start(Motorcyclee)"
   ]
  },
  {
   "cell_type": "code",
   "execution_count": null,
   "metadata": {},
   "outputs": [],
   "source": []
  }
 ],
 "metadata": {
  "kernelspec": {
   "display_name": "Python 3",
   "language": "python",
   "name": "python3"
  },
  "language_info": {
   "codemirror_mode": {
    "name": "ipython",
    "version": 3
   },
   "file_extension": ".py",
   "mimetype": "text/x-python",
   "name": "python",
   "nbconvert_exporter": "python",
   "pygments_lexer": "ipython3",
   "version": "3.12.0"
  }
 },
 "nbformat": 4,
 "nbformat_minor": 2
}
