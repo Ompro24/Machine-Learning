{
 "cells": [
  {
   "cell_type": "markdown",
   "metadata": {},
   "source": [
    "### Dictionary"
   ]
  },
  {
   "cell_type": "markdown",
   "metadata": {},
   "source": [
    "Dictionay are unordered collection of items. They store ata in key-value pairs. Keys must be unique and ummutable(e.g,Strings, number,or tuples),while values can be of any type"
   ]
  },
  {
   "cell_type": "code",
   "execution_count": 1,
   "metadata": {},
   "outputs": [
    {
     "name": "stdout",
     "output_type": "stream",
     "text": [
      "<class 'dict'>\n"
     ]
    }
   ],
   "source": [
    "## Creating Dictionaries\n",
    "emp_dict={}\n",
    "empty_dict=dict()\n",
    "print(type(emp_dict))"
   ]
  },
  {
   "cell_type": "code",
   "execution_count": 21,
   "metadata": {},
   "outputs": [
    {
     "name": "stdout",
     "output_type": "stream",
     "text": [
      "{'name': 'Krish', 'Age': 20, 'Grade': 'A'}\n"
     ]
    }
   ],
   "source": [
    "student={\"name\":\"Krish\",\"Age\":20,\"Grade\":\"A\"}\n",
    "print(student)"
   ]
  },
  {
   "cell_type": "code",
   "execution_count": 22,
   "metadata": {},
   "outputs": [
    {
     "name": "stdout",
     "output_type": "stream",
     "text": [
      "20\n",
      "not available\n"
     ]
    }
   ],
   "source": [
    "#Accessing Dictionary Elements\n",
    "print(student[\"Age\"])\n",
    "\n",
    "print(student.get('grade',\"not available\"))"
   ]
  },
  {
   "cell_type": "code",
   "execution_count": 23,
   "metadata": {},
   "outputs": [
    {
     "name": "stdout",
     "output_type": "stream",
     "text": [
      "{'name': 'Krish', 'Age': 20, 'Grade': 'A'}\n"
     ]
    }
   ],
   "source": [
    "#Modifying the Dictionay\n",
    "print(student)"
   ]
  },
  {
   "cell_type": "code",
   "execution_count": 24,
   "metadata": {},
   "outputs": [],
   "source": [
    "student['Address']=\"Mumbai\" #adding the element\n",
    "\n",
    "student[\"Grade\"]='A+' #modifying the value\n"
   ]
  },
  {
   "cell_type": "code",
   "execution_count": 26,
   "metadata": {},
   "outputs": [],
   "source": [
    "del student[\"Age\"] #Deketing the element from dictionary"
   ]
  },
  {
   "cell_type": "code",
   "execution_count": 27,
   "metadata": {},
   "outputs": [
    {
     "name": "stdout",
     "output_type": "stream",
     "text": [
      "{'name': 'Krish', 'Grade': 'A+', 'Address': 'Mumbai'}\n"
     ]
    }
   ],
   "source": [
    "print(student)"
   ]
  },
  {
   "cell_type": "code",
   "execution_count": 28,
   "metadata": {},
   "outputs": [
    {
     "name": "stdout",
     "output_type": "stream",
     "text": [
      "dict_keys(['name', 'Grade', 'Address'])\n",
      "dict_values(['Krish', 'A+', 'Mumbai'])\n"
     ]
    }
   ],
   "source": [
    "#Methods in dictionary\n",
    "\n",
    "keys=student.keys() # get all keys\n",
    "print(keys)\n",
    "values=student.values() # get all values\n",
    "print(values)"
   ]
  },
  {
   "cell_type": "code",
   "execution_count": 29,
   "metadata": {},
   "outputs": [
    {
     "name": "stdout",
     "output_type": "stream",
     "text": [
      "dict_items([('name', 'Krish'), ('Grade', 'A+'), ('Address', 'Mumbai')])\n"
     ]
    }
   ],
   "source": [
    "items=student.items() # get all items in key and value pair\n",
    "print(items)"
   ]
  },
  {
   "cell_type": "code",
   "execution_count": 31,
   "metadata": {},
   "outputs": [
    {
     "name": "stdout",
     "output_type": "stream",
     "text": [
      "{'name': 'Krish', 'Grade': 'A+', 'Address': 'Mumbai'}\n",
      "{'name': 'Krish', 'Grade': 'A+', 'Address': 'Mumbai'}\n"
     ]
    }
   ],
   "source": [
    "## shallow copy\n",
    "student_copy=student\n",
    "print(student)\n",
    "print(student_copy)"
   ]
  },
  {
   "cell_type": "code",
   "execution_count": 32,
   "metadata": {},
   "outputs": [
    {
     "name": "stdout",
     "output_type": "stream",
     "text": [
      "{'name': 'Krish2', 'Grade': 'A+', 'Address': 'Mumbai'}\n",
      "{'name': 'Krish2', 'Grade': 'A+', 'Address': 'Mumbai'}\n"
     ]
    }
   ],
   "source": [
    "student['name']='Krish2'\n",
    "print(student)\n",
    "print(student_copy)"
   ]
  },
  {
   "cell_type": "code",
   "execution_count": 34,
   "metadata": {},
   "outputs": [
    {
     "name": "stdout",
     "output_type": "stream",
     "text": [
      "{'name': 'Krish2', 'Grade': 'A+', 'Address': 'Mumbai'}\n",
      "{'name': 'Krish2', 'Grade': 'A+', 'Address': 'Mumbai'}\n"
     ]
    }
   ],
   "source": [
    "student_copy1=student.copy() #shallow copy\n",
    "print(student)\n",
    "print(student_copy1)"
   ]
  },
  {
   "cell_type": "code",
   "execution_count": 35,
   "metadata": {},
   "outputs": [
    {
     "name": "stdout",
     "output_type": "stream",
     "text": [
      "{'name': 'Krish2', 'Grade': 'A+', 'Address': 'Mumbai'}\n"
     ]
    }
   ],
   "source": [
    "student['name']=\"Krish3\"\n",
    "print(student_copy1)"
   ]
  },
  {
   "cell_type": "code",
   "execution_count": 40,
   "metadata": {},
   "outputs": [
    {
     "name": "stdout",
     "output_type": "stream",
     "text": [
      "name\n",
      "Grade\n",
      "Address\n"
     ]
    }
   ],
   "source": [
    "##iterating over Dictionaries\n",
    "##You can use loops to iterate over dictionaries\n",
    "\n",
    "##Iterate over values\n",
    "for keys in student.keys():\n",
    "    print(keys)"
   ]
  },
  {
   "cell_type": "code",
   "execution_count": 41,
   "metadata": {},
   "outputs": [
    {
     "name": "stdout",
     "output_type": "stream",
     "text": [
      "name Krish3\n",
      "Grade A+\n",
      "Address Mumbai\n"
     ]
    }
   ],
   "source": [
    "#iterate over items \n",
    "for keys,values in student.items():\n",
    "    print(keys,values)"
   ]
  },
  {
   "cell_type": "code",
   "execution_count": 1,
   "metadata": {},
   "outputs": [
    {
     "name": "stdout",
     "output_type": "stream",
     "text": [
      "{'Students': {'name': 'Krish', 'age': 32}, 'Student2': {'name': 'OM', 'age': 20}}\n"
     ]
    }
   ],
   "source": [
    "#NESTED DICTIONARY\n",
    "NESTEDdict={\n",
    "    \"Students\":{\"name\":\"Krish\",\"age\":32},\n",
    "    \"Student2\":{\"name\":\"OM\",\"age\":20}\n",
    "}\n",
    "print(NESTEDdict)\n"
   ]
  },
  {
   "cell_type": "code",
   "execution_count": 6,
   "metadata": {},
   "outputs": [
    {
     "name": "stdout",
     "output_type": "stream",
     "text": [
      "32\n",
      "Krish\n"
     ]
    }
   ],
   "source": [
    "#access Nested dictionary\n",
    "print(NESTEDdict['Students'][\"age\"])\n",
    "print(NESTEDdict['Students'][\"name\"])"
   ]
  },
  {
   "cell_type": "code",
   "execution_count": 7,
   "metadata": {},
   "outputs": [
    {
     "data": {
      "text/plain": [
       "dict_items([('Students', {'name': 'Krish', 'age': 32}), ('Student2', {'name': 'OM', 'age': 20})])"
      ]
     },
     "execution_count": 7,
     "metadata": {},
     "output_type": "execute_result"
    }
   ],
   "source": [
    "NESTEDdict.items()"
   ]
  },
  {
   "cell_type": "code",
   "execution_count": 10,
   "metadata": {},
   "outputs": [
    {
     "name": "stdout",
     "output_type": "stream",
     "text": [
      "Students:{'name': 'Krish', 'age': 32}\n",
      "name:Krish\n",
      "age:32\n",
      "Student2:{'name': 'OM', 'age': 20}\n",
      "name:OM\n",
      "age:20\n"
     ]
    }
   ],
   "source": [
    "#iterating over nested dictionary\n",
    "for students_id,student_info in NESTEDdict.items():\n",
    "    print(f\"{students_id}:{student_info}\")\n",
    "    for key,values in student_info.items():\n",
    "        print(f\"{key}:{values}\")"
   ]
  },
  {
   "cell_type": "code",
   "execution_count": 11,
   "metadata": {},
   "outputs": [
    {
     "name": "stdout",
     "output_type": "stream",
     "text": [
      "{0: 0, 1: 1, 2: 4, 3: 9, 4: 16, 5: 25}\n"
     ]
    }
   ],
   "source": [
    "##dictionary comprehension\n",
    "squares={i:i**2 for i in range(0,6)}\n",
    "print(squares)"
   ]
  },
  {
   "cell_type": "code",
   "execution_count": 15,
   "metadata": {},
   "outputs": [
    {
     "name": "stdout",
     "output_type": "stream",
     "text": [
      "{0: 0, 2: 4, 4: 16, 6: 36, 8: 64}\n"
     ]
    }
   ],
   "source": [
    "#conditional dictionary comprehension\n",
    "evens ={i:i**2 for i in range(10) if i%2==0}\n",
    "print(evens)"
   ]
  },
  {
   "cell_type": "code",
   "execution_count": 16,
   "metadata": {},
   "outputs": [
    {
     "name": "stdout",
     "output_type": "stream",
     "text": [
      "{1: 1, 2: 1, 3: 3, 4: 2, 5: 2, 6: 1}\n"
     ]
    }
   ],
   "source": [
    "#practical Examples\n",
    "\n",
    "##use a dictionary count the frequency of elements in list\n",
    "\n",
    "member=[1,2,3,3,3,4,4,5,5,6]\n",
    "frequency={}\n",
    "for i in member:\n",
    "    if i in frequency:\n",
    "        frequency[i]+=1\n",
    "    else:\n",
    "        frequency[i]=1\n",
    "print(frequency)"
   ]
  },
  {
   "cell_type": "code",
   "execution_count": 21,
   "metadata": {},
   "outputs": [
    {
     "name": "stdout",
     "output_type": "stream",
     "text": [
      "{1: 1, 2: 4, 3: 9, 4: 16}\n"
     ]
    }
   ],
   "source": [
    "dict1={1:1,2:4}\n",
    "dict2={3:9,4:16}\n",
    "merged_dict={**dict1,**dict2}\n",
    "print(merged_dict)"
   ]
  },
  {
   "cell_type": "code",
   "execution_count": null,
   "metadata": {},
   "outputs": [],
   "source": []
  }
 ],
 "metadata": {
  "kernelspec": {
   "display_name": "Python 3",
   "language": "python",
   "name": "python3"
  },
  "language_info": {
   "codemirror_mode": {
    "name": "ipython",
    "version": 3
   },
   "file_extension": ".py",
   "mimetype": "text/x-python",
   "name": "python",
   "nbconvert_exporter": "python",
   "pygments_lexer": "ipython3",
   "version": "3.12.0"
  }
 },
 "nbformat": 4,
 "nbformat_minor": 2
}
