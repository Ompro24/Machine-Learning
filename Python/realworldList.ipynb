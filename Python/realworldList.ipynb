{
 "cells": [
  {
   "cell_type": "markdown",
   "metadata": {},
   "source": [
    "## Real-World Examples Using lists in Python"
   ]
  },
  {
   "cell_type": "code",
   "execution_count": 3,
   "metadata": {},
   "outputs": [
    {
     "name": "stdout",
     "output_type": "stream",
     "text": [
      "Dont forget to pay the utility billss\n",
      "To Do List remaining\n",
      "-Buy Groceries\n",
      "-Pay Bills\n",
      "-Schedule meeting\n",
      "-Go for a Run\n"
     ]
    }
   ],
   "source": [
    "##Create a To Do List To Keep Track Of Tasks \n",
    "to_do_list=['Buy Groceries','Clean the house','Pay Bills']\n",
    "\n",
    "##Adding to task \n",
    "to_do_list.append(\"Schedule meeting\")\n",
    "to_do_list.append(\"Go for a Run\")\n",
    "\n",
    "##Removeing a completed task\n",
    "to_do_list.remove(\"Clean the house\")\n",
    "\n",
    "##Checking if a task is in the list\n",
    "if \"Pay Bills\" in to_do_list:\n",
    "    print(\"Dont forget to pay the utility billss\")\n",
    "print(\"To Do List remaining\")\n",
    "for task in to_do_list:\n",
    "    print(f\"{task}\")"
   ]
  },
  {
   "cell_type": "code",
   "execution_count": 7,
   "metadata": {},
   "outputs": [
    {
     "name": "stdout",
     "output_type": "stream",
     "text": [
      "Average marks of students is 90.17\n",
      "Highest marks of students is :100\n",
      "Lowest marks of student :64\n"
     ]
    }
   ],
   "source": [
    "#Organi,zing Student Dates\n",
    "marks=[85,95,64,99,100,98]\n",
    "\n",
    "#Calculating te avg marks of students\n",
    "\n",
    "avg=sum(marks)/len(marks)\n",
    "print(f\"Average marks of students is {avg:.2f}\")\n",
    "\n",
    "#printing the min and max marks of students\n",
    "\n",
    "lowestmarks=min(marks)\n",
    "higherstmarks=max(marks)\n",
    "\n",
    "print(f\"Highest marks of students is :{higherstmarks}\")\n",
    "print(f\"Lowest marks of student :{lowestmarks}\")"
   ]
  },
  {
   "cell_type": "code",
   "execution_count": 3,
   "metadata": {},
   "outputs": [
    {
     "name": "stdout",
     "output_type": "stream",
     "text": [
      "8 is even\n"
     ]
    }
   ],
   "source": [
    "def even_odd_even(num):\n",
    "    if num % 2 == 0:\n",
    "        print(f\"{num} is even\")\n",
    "    else:\n",
    "        print(f\"{num} is odd\")\n",
    "even_odd_even(8)"
   ]
  },
  {
   "cell_type": "code",
   "execution_count": null,
   "metadata": {},
   "outputs": [],
   "source": []
  }
 ],
 "metadata": {
  "kernelspec": {
   "display_name": "Python 3",
   "language": "python",
   "name": "python3"
  },
  "language_info": {
   "codemirror_mode": {
    "name": "ipython",
    "version": 3
   },
   "file_extension": ".py",
   "mimetype": "text/x-python",
   "name": "python",
   "nbconvert_exporter": "python",
   "pygments_lexer": "ipython3",
   "version": "3.12.0"
  }
 },
 "nbformat": 4,
 "nbformat_minor": 2
}
